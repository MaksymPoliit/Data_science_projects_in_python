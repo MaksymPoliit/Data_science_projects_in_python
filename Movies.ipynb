{
 "cells": [
  {
   "cell_type": "code",
   "execution_count": 167,
   "id": "614ce03f",
   "metadata": {},
   "outputs": [],
   "source": [
    "import pandas as pd\n",
    "import numpy as np\n",
    "import matplotlib.pyplot as plt\n",
    "import seaborn as sb\n",
    "from sklearn import metrics"
   ]
  },
  {
   "cell_type": "code",
   "execution_count": 3,
   "id": "0d36c957",
   "metadata": {},
   "outputs": [
    {
     "name": "stderr",
     "output_type": "stream",
     "text": [
      "<ipython-input-3-a7ecb5d434f6>:1: ParserWarning: Falling back to the 'python' engine because the 'c' engine does not support regex separators (separators > 1 char and different from '\\s+' are interpreted as regex); you can avoid this warning by specifying engine='python'.\n",
      "  movies=pd.read_csv(\"/Users/maxpoliit/Downloads/Data science with Python 1/movies.dat\", sep=\"::\",names=['MovieID', 'Title', 'Genre'])\n"
     ]
    }
   ],
   "source": [
    "movies=pd.read_csv(\"/Users/maxpoliit/Downloads/Data science with Python 1/movies.dat\", sep=\"::\",names=['MovieID', 'Title', 'Genre'])\n"
   ]
  },
  {
   "cell_type": "code",
   "execution_count": 4,
   "id": "f8374ac3",
   "metadata": {},
   "outputs": [
    {
     "data": {
      "text/html": [
       "<div>\n",
       "<style scoped>\n",
       "    .dataframe tbody tr th:only-of-type {\n",
       "        vertical-align: middle;\n",
       "    }\n",
       "\n",
       "    .dataframe tbody tr th {\n",
       "        vertical-align: top;\n",
       "    }\n",
       "\n",
       "    .dataframe thead th {\n",
       "        text-align: right;\n",
       "    }\n",
       "</style>\n",
       "<table border=\"1\" class=\"dataframe\">\n",
       "  <thead>\n",
       "    <tr style=\"text-align: right;\">\n",
       "      <th></th>\n",
       "      <th>MovieID</th>\n",
       "      <th>Title</th>\n",
       "      <th>Genre</th>\n",
       "    </tr>\n",
       "  </thead>\n",
       "  <tbody>\n",
       "    <tr>\n",
       "      <th>0</th>\n",
       "      <td>1</td>\n",
       "      <td>Toy Story (1995)</td>\n",
       "      <td>Animation|Children's|Comedy</td>\n",
       "    </tr>\n",
       "    <tr>\n",
       "      <th>1</th>\n",
       "      <td>2</td>\n",
       "      <td>Jumanji (1995)</td>\n",
       "      <td>Adventure|Children's|Fantasy</td>\n",
       "    </tr>\n",
       "    <tr>\n",
       "      <th>2</th>\n",
       "      <td>3</td>\n",
       "      <td>Grumpier Old Men (1995)</td>\n",
       "      <td>Comedy|Romance</td>\n",
       "    </tr>\n",
       "    <tr>\n",
       "      <th>3</th>\n",
       "      <td>4</td>\n",
       "      <td>Waiting to Exhale (1995)</td>\n",
       "      <td>Comedy|Drama</td>\n",
       "    </tr>\n",
       "    <tr>\n",
       "      <th>4</th>\n",
       "      <td>5</td>\n",
       "      <td>Father of the Bride Part II (1995)</td>\n",
       "      <td>Comedy</td>\n",
       "    </tr>\n",
       "  </tbody>\n",
       "</table>\n",
       "</div>"
      ],
      "text/plain": [
       "   MovieID                               Title                         Genre\n",
       "0        1                    Toy Story (1995)   Animation|Children's|Comedy\n",
       "1        2                      Jumanji (1995)  Adventure|Children's|Fantasy\n",
       "2        3             Grumpier Old Men (1995)                Comedy|Romance\n",
       "3        4            Waiting to Exhale (1995)                  Comedy|Drama\n",
       "4        5  Father of the Bride Part II (1995)                        Comedy"
      ]
     },
     "execution_count": 4,
     "metadata": {},
     "output_type": "execute_result"
    }
   ],
   "source": [
    "movies.head()"
   ]
  },
  {
   "cell_type": "code",
   "execution_count": 5,
   "id": "2ddf2e61",
   "metadata": {},
   "outputs": [
    {
     "name": "stderr",
     "output_type": "stream",
     "text": [
      "<ipython-input-5-493973f2eec5>:1: ParserWarning: Falling back to the 'python' engine because the 'c' engine does not support regex separators (separators > 1 char and different from '\\s+' are interpreted as regex); you can avoid this warning by specifying engine='python'.\n",
      "  ratings=pd.read_csv(\"/Users/maxpoliit/Downloads/Data science with Python 1/ratings.dat\", sep=\"::\",names=['UserID','MovieID','Rating','Timestamp'])\n"
     ]
    }
   ],
   "source": [
    "ratings=pd.read_csv(\"/Users/maxpoliit/Downloads/Data science with Python 1/ratings.dat\", sep=\"::\",names=['UserID','MovieID','Rating','Timestamp'])"
   ]
  },
  {
   "cell_type": "code",
   "execution_count": 6,
   "id": "557b4028",
   "metadata": {},
   "outputs": [
    {
     "data": {
      "text/html": [
       "<div>\n",
       "<style scoped>\n",
       "    .dataframe tbody tr th:only-of-type {\n",
       "        vertical-align: middle;\n",
       "    }\n",
       "\n",
       "    .dataframe tbody tr th {\n",
       "        vertical-align: top;\n",
       "    }\n",
       "\n",
       "    .dataframe thead th {\n",
       "        text-align: right;\n",
       "    }\n",
       "</style>\n",
       "<table border=\"1\" class=\"dataframe\">\n",
       "  <thead>\n",
       "    <tr style=\"text-align: right;\">\n",
       "      <th></th>\n",
       "      <th>UserID</th>\n",
       "      <th>MovieID</th>\n",
       "      <th>Rating</th>\n",
       "      <th>Timestamp</th>\n",
       "    </tr>\n",
       "  </thead>\n",
       "  <tbody>\n",
       "    <tr>\n",
       "      <th>0</th>\n",
       "      <td>1</td>\n",
       "      <td>1193</td>\n",
       "      <td>5</td>\n",
       "      <td>978300760</td>\n",
       "    </tr>\n",
       "    <tr>\n",
       "      <th>1</th>\n",
       "      <td>1</td>\n",
       "      <td>661</td>\n",
       "      <td>3</td>\n",
       "      <td>978302109</td>\n",
       "    </tr>\n",
       "    <tr>\n",
       "      <th>2</th>\n",
       "      <td>1</td>\n",
       "      <td>914</td>\n",
       "      <td>3</td>\n",
       "      <td>978301968</td>\n",
       "    </tr>\n",
       "    <tr>\n",
       "      <th>3</th>\n",
       "      <td>1</td>\n",
       "      <td>3408</td>\n",
       "      <td>4</td>\n",
       "      <td>978300275</td>\n",
       "    </tr>\n",
       "    <tr>\n",
       "      <th>4</th>\n",
       "      <td>1</td>\n",
       "      <td>2355</td>\n",
       "      <td>5</td>\n",
       "      <td>978824291</td>\n",
       "    </tr>\n",
       "  </tbody>\n",
       "</table>\n",
       "</div>"
      ],
      "text/plain": [
       "   UserID  MovieID  Rating  Timestamp\n",
       "0       1     1193       5  978300760\n",
       "1       1      661       3  978302109\n",
       "2       1      914       3  978301968\n",
       "3       1     3408       4  978300275\n",
       "4       1     2355       5  978824291"
      ]
     },
     "execution_count": 6,
     "metadata": {},
     "output_type": "execute_result"
    }
   ],
   "source": [
    "ratings.head()"
   ]
  },
  {
   "cell_type": "code",
   "execution_count": 7,
   "id": "76b0dc62",
   "metadata": {},
   "outputs": [
    {
     "name": "stderr",
     "output_type": "stream",
     "text": [
      "<ipython-input-7-25eb12b38651>:1: ParserWarning: Falling back to the 'python' engine because the 'c' engine does not support regex separators (separators > 1 char and different from '\\s+' are interpreted as regex); you can avoid this warning by specifying engine='python'.\n",
      "  users=pd.read_csv(\"/Users/maxpoliit/Downloads/Data science with Python 1/users.dat\", sep=\"::\",names=['UserID','Gender','Age','Ocupation','Zip'])\n"
     ]
    }
   ],
   "source": [
    "users=pd.read_csv(\"/Users/maxpoliit/Downloads/Data science with Python 1/users.dat\", sep=\"::\",names=['UserID','Gender','Age','Ocupation','Zip'])"
   ]
  },
  {
   "cell_type": "code",
   "execution_count": 8,
   "id": "6547a1bb",
   "metadata": {},
   "outputs": [
    {
     "data": {
      "text/html": [
       "<div>\n",
       "<style scoped>\n",
       "    .dataframe tbody tr th:only-of-type {\n",
       "        vertical-align: middle;\n",
       "    }\n",
       "\n",
       "    .dataframe tbody tr th {\n",
       "        vertical-align: top;\n",
       "    }\n",
       "\n",
       "    .dataframe thead th {\n",
       "        text-align: right;\n",
       "    }\n",
       "</style>\n",
       "<table border=\"1\" class=\"dataframe\">\n",
       "  <thead>\n",
       "    <tr style=\"text-align: right;\">\n",
       "      <th></th>\n",
       "      <th>UserID</th>\n",
       "      <th>Gender</th>\n",
       "      <th>Age</th>\n",
       "      <th>Ocupation</th>\n",
       "      <th>Zip</th>\n",
       "    </tr>\n",
       "  </thead>\n",
       "  <tbody>\n",
       "    <tr>\n",
       "      <th>0</th>\n",
       "      <td>1</td>\n",
       "      <td>F</td>\n",
       "      <td>1</td>\n",
       "      <td>10</td>\n",
       "      <td>48067</td>\n",
       "    </tr>\n",
       "    <tr>\n",
       "      <th>1</th>\n",
       "      <td>2</td>\n",
       "      <td>M</td>\n",
       "      <td>56</td>\n",
       "      <td>16</td>\n",
       "      <td>70072</td>\n",
       "    </tr>\n",
       "    <tr>\n",
       "      <th>2</th>\n",
       "      <td>3</td>\n",
       "      <td>M</td>\n",
       "      <td>25</td>\n",
       "      <td>15</td>\n",
       "      <td>55117</td>\n",
       "    </tr>\n",
       "    <tr>\n",
       "      <th>3</th>\n",
       "      <td>4</td>\n",
       "      <td>M</td>\n",
       "      <td>45</td>\n",
       "      <td>7</td>\n",
       "      <td>02460</td>\n",
       "    </tr>\n",
       "    <tr>\n",
       "      <th>4</th>\n",
       "      <td>5</td>\n",
       "      <td>M</td>\n",
       "      <td>25</td>\n",
       "      <td>20</td>\n",
       "      <td>55455</td>\n",
       "    </tr>\n",
       "  </tbody>\n",
       "</table>\n",
       "</div>"
      ],
      "text/plain": [
       "   UserID Gender  Age  Ocupation    Zip\n",
       "0       1      F    1         10  48067\n",
       "1       2      M   56         16  70072\n",
       "2       3      M   25         15  55117\n",
       "3       4      M   45          7  02460\n",
       "4       5      M   25         20  55455"
      ]
     },
     "execution_count": 8,
     "metadata": {},
     "output_type": "execute_result"
    }
   ],
   "source": [
    "users.head()"
   ]
  },
  {
   "cell_type": "code",
   "execution_count": 9,
   "id": "f9c10404",
   "metadata": {},
   "outputs": [],
   "source": [
    "userating=pd.merge(users,ratings,on='UserID')"
   ]
  },
  {
   "cell_type": "code",
   "execution_count": 10,
   "id": "31b9c5ed",
   "metadata": {},
   "outputs": [],
   "source": [
    "useratingmovies=pd.merge(userating,movies,on='MovieID')"
   ]
  },
  {
   "cell_type": "code",
   "execution_count": 11,
   "id": "4229f71a",
   "metadata": {},
   "outputs": [],
   "source": [
    "Master_Data=useratingmovies"
   ]
  },
  {
   "cell_type": "code",
   "execution_count": 12,
   "id": "13d9c341",
   "metadata": {},
   "outputs": [
    {
     "data": {
      "text/html": [
       "<div>\n",
       "<style scoped>\n",
       "    .dataframe tbody tr th:only-of-type {\n",
       "        vertical-align: middle;\n",
       "    }\n",
       "\n",
       "    .dataframe tbody tr th {\n",
       "        vertical-align: top;\n",
       "    }\n",
       "\n",
       "    .dataframe thead th {\n",
       "        text-align: right;\n",
       "    }\n",
       "</style>\n",
       "<table border=\"1\" class=\"dataframe\">\n",
       "  <thead>\n",
       "    <tr style=\"text-align: right;\">\n",
       "      <th></th>\n",
       "      <th>UserID</th>\n",
       "      <th>Gender</th>\n",
       "      <th>Age</th>\n",
       "      <th>Ocupation</th>\n",
       "      <th>Zip</th>\n",
       "      <th>MovieID</th>\n",
       "      <th>Rating</th>\n",
       "      <th>Timestamp</th>\n",
       "      <th>Title</th>\n",
       "      <th>Genre</th>\n",
       "    </tr>\n",
       "  </thead>\n",
       "  <tbody>\n",
       "    <tr>\n",
       "      <th>0</th>\n",
       "      <td>1</td>\n",
       "      <td>F</td>\n",
       "      <td>1</td>\n",
       "      <td>10</td>\n",
       "      <td>48067</td>\n",
       "      <td>1193</td>\n",
       "      <td>5</td>\n",
       "      <td>978300760</td>\n",
       "      <td>One Flew Over the Cuckoo's Nest (1975)</td>\n",
       "      <td>Drama</td>\n",
       "    </tr>\n",
       "    <tr>\n",
       "      <th>1</th>\n",
       "      <td>2</td>\n",
       "      <td>M</td>\n",
       "      <td>56</td>\n",
       "      <td>16</td>\n",
       "      <td>70072</td>\n",
       "      <td>1193</td>\n",
       "      <td>5</td>\n",
       "      <td>978298413</td>\n",
       "      <td>One Flew Over the Cuckoo's Nest (1975)</td>\n",
       "      <td>Drama</td>\n",
       "    </tr>\n",
       "    <tr>\n",
       "      <th>2</th>\n",
       "      <td>12</td>\n",
       "      <td>M</td>\n",
       "      <td>25</td>\n",
       "      <td>12</td>\n",
       "      <td>32793</td>\n",
       "      <td>1193</td>\n",
       "      <td>4</td>\n",
       "      <td>978220179</td>\n",
       "      <td>One Flew Over the Cuckoo's Nest (1975)</td>\n",
       "      <td>Drama</td>\n",
       "    </tr>\n",
       "    <tr>\n",
       "      <th>3</th>\n",
       "      <td>15</td>\n",
       "      <td>M</td>\n",
       "      <td>25</td>\n",
       "      <td>7</td>\n",
       "      <td>22903</td>\n",
       "      <td>1193</td>\n",
       "      <td>4</td>\n",
       "      <td>978199279</td>\n",
       "      <td>One Flew Over the Cuckoo's Nest (1975)</td>\n",
       "      <td>Drama</td>\n",
       "    </tr>\n",
       "    <tr>\n",
       "      <th>4</th>\n",
       "      <td>17</td>\n",
       "      <td>M</td>\n",
       "      <td>50</td>\n",
       "      <td>1</td>\n",
       "      <td>95350</td>\n",
       "      <td>1193</td>\n",
       "      <td>5</td>\n",
       "      <td>978158471</td>\n",
       "      <td>One Flew Over the Cuckoo's Nest (1975)</td>\n",
       "      <td>Drama</td>\n",
       "    </tr>\n",
       "  </tbody>\n",
       "</table>\n",
       "</div>"
      ],
      "text/plain": [
       "   UserID Gender  Age  Ocupation    Zip  MovieID  Rating  Timestamp  \\\n",
       "0       1      F    1         10  48067     1193       5  978300760   \n",
       "1       2      M   56         16  70072     1193       5  978298413   \n",
       "2      12      M   25         12  32793     1193       4  978220179   \n",
       "3      15      M   25          7  22903     1193       4  978199279   \n",
       "4      17      M   50          1  95350     1193       5  978158471   \n",
       "\n",
       "                                    Title  Genre  \n",
       "0  One Flew Over the Cuckoo's Nest (1975)  Drama  \n",
       "1  One Flew Over the Cuckoo's Nest (1975)  Drama  \n",
       "2  One Flew Over the Cuckoo's Nest (1975)  Drama  \n",
       "3  One Flew Over the Cuckoo's Nest (1975)  Drama  \n",
       "4  One Flew Over the Cuckoo's Nest (1975)  Drama  "
      ]
     },
     "execution_count": 12,
     "metadata": {},
     "output_type": "execute_result"
    }
   ],
   "source": [
    "Master_Data.head()"
   ]
  },
  {
   "cell_type": "code",
   "execution_count": 13,
   "id": "e9db891a",
   "metadata": {},
   "outputs": [],
   "source": [
    "Master_Data1=Master_Data.drop(columns=['Zip','Timestamp','Title','Genre'])"
   ]
  },
  {
   "cell_type": "code",
   "execution_count": 14,
   "id": "7215cbbe",
   "metadata": {},
   "outputs": [
    {
     "data": {
      "text/plain": [
       "UserID       0.0\n",
       "Gender       0.0\n",
       "Age          0.0\n",
       "Ocupation    0.0\n",
       "Zip          0.0\n",
       "MovieID      0.0\n",
       "Rating       0.0\n",
       "Timestamp    0.0\n",
       "Title        0.0\n",
       "Genre        0.0\n",
       "dtype: float64"
      ]
     },
     "execution_count": 14,
     "metadata": {},
     "output_type": "execute_result"
    }
   ],
   "source": [
    "Master_Data.isna().mean()*100"
   ]
  },
  {
   "cell_type": "code",
   "execution_count": 15,
   "id": "9a22c804",
   "metadata": {},
   "outputs": [
    {
     "data": {
      "text/html": [
       "<div>\n",
       "<style scoped>\n",
       "    .dataframe tbody tr th:only-of-type {\n",
       "        vertical-align: middle;\n",
       "    }\n",
       "\n",
       "    .dataframe tbody tr th {\n",
       "        vertical-align: top;\n",
       "    }\n",
       "\n",
       "    .dataframe thead th {\n",
       "        text-align: right;\n",
       "    }\n",
       "</style>\n",
       "<table border=\"1\" class=\"dataframe\">\n",
       "  <thead>\n",
       "    <tr style=\"text-align: right;\">\n",
       "      <th></th>\n",
       "      <th>UserID</th>\n",
       "      <th>Gender</th>\n",
       "      <th>Age</th>\n",
       "      <th>Ocupation</th>\n",
       "      <th>MovieID</th>\n",
       "      <th>Rating</th>\n",
       "    </tr>\n",
       "  </thead>\n",
       "  <tbody>\n",
       "    <tr>\n",
       "      <th>0</th>\n",
       "      <td>1</td>\n",
       "      <td>F</td>\n",
       "      <td>1</td>\n",
       "      <td>10</td>\n",
       "      <td>1193</td>\n",
       "      <td>5</td>\n",
       "    </tr>\n",
       "    <tr>\n",
       "      <th>1</th>\n",
       "      <td>2</td>\n",
       "      <td>M</td>\n",
       "      <td>56</td>\n",
       "      <td>16</td>\n",
       "      <td>1193</td>\n",
       "      <td>5</td>\n",
       "    </tr>\n",
       "    <tr>\n",
       "      <th>2</th>\n",
       "      <td>12</td>\n",
       "      <td>M</td>\n",
       "      <td>25</td>\n",
       "      <td>12</td>\n",
       "      <td>1193</td>\n",
       "      <td>4</td>\n",
       "    </tr>\n",
       "    <tr>\n",
       "      <th>3</th>\n",
       "      <td>15</td>\n",
       "      <td>M</td>\n",
       "      <td>25</td>\n",
       "      <td>7</td>\n",
       "      <td>1193</td>\n",
       "      <td>4</td>\n",
       "    </tr>\n",
       "    <tr>\n",
       "      <th>4</th>\n",
       "      <td>17</td>\n",
       "      <td>M</td>\n",
       "      <td>50</td>\n",
       "      <td>1</td>\n",
       "      <td>1193</td>\n",
       "      <td>5</td>\n",
       "    </tr>\n",
       "  </tbody>\n",
       "</table>\n",
       "</div>"
      ],
      "text/plain": [
       "   UserID Gender  Age  Ocupation  MovieID  Rating\n",
       "0       1      F    1         10     1193       5\n",
       "1       2      M   56         16     1193       5\n",
       "2      12      M   25         12     1193       4\n",
       "3      15      M   25          7     1193       4\n",
       "4      17      M   50          1     1193       5"
      ]
     },
     "execution_count": 15,
     "metadata": {},
     "output_type": "execute_result"
    }
   ],
   "source": [
    "Master_Data1.head()"
   ]
  },
  {
   "cell_type": "code",
   "execution_count": 16,
   "id": "4e75c1d2",
   "metadata": {},
   "outputs": [],
   "source": [
    "agedist=Master_Data['Age'].value_counts()"
   ]
  },
  {
   "cell_type": "code",
   "execution_count": 17,
   "id": "731f4c3c",
   "metadata": {},
   "outputs": [
    {
     "data": {
      "text/plain": [
       "<AxesSubplot:>"
      ]
     },
     "execution_count": 17,
     "metadata": {},
     "output_type": "execute_result"
    },
    {
     "data": {
      "image/png": "[encoded data removed]",
      "text/plain": [
       "<Figure size 432x288 with 1 Axes>"
      ]
     },
     "metadata": {
      "needs_background": "light"
     },
     "output_type": "display_data"
    }
   ],
   "source": [
    "agedist.plot(kind='bar')"
   ]
  },
  {
   "cell_type": "code",
   "execution_count": 18,
   "id": "ada372e3",
   "metadata": {},
   "outputs": [],
   "source": [
    "ratings_toy=pd.DataFrame(data=Master_Data, columns=['Rating','Title'])"
   ]
  },
  {
   "cell_type": "code",
   "execution_count": 19,
   "id": "54767902",
   "metadata": {},
   "outputs": [
    {
     "data": {
      "text/html": [
       "<div>\n",
       "<style scoped>\n",
       "    .dataframe tbody tr th:only-of-type {\n",
       "        vertical-align: middle;\n",
       "    }\n",
       "\n",
       "    .dataframe tbody tr th {\n",
       "        vertical-align: top;\n",
       "    }\n",
       "\n",
       "    .dataframe thead th {\n",
       "        text-align: right;\n",
       "    }\n",
       "</style>\n",
       "<table border=\"1\" class=\"dataframe\">\n",
       "  <thead>\n",
       "    <tr style=\"text-align: right;\">\n",
       "      <th></th>\n",
       "      <th>Rating</th>\n",
       "      <th>Title</th>\n",
       "    </tr>\n",
       "  </thead>\n",
       "  <tbody>\n",
       "    <tr>\n",
       "      <th>0</th>\n",
       "      <td>5</td>\n",
       "      <td>One Flew Over the Cuckoo's Nest (1975)</td>\n",
       "    </tr>\n",
       "    <tr>\n",
       "      <th>1</th>\n",
       "      <td>5</td>\n",
       "      <td>One Flew Over the Cuckoo's Nest (1975)</td>\n",
       "    </tr>\n",
       "    <tr>\n",
       "      <th>2</th>\n",
       "      <td>4</td>\n",
       "      <td>One Flew Over the Cuckoo's Nest (1975)</td>\n",
       "    </tr>\n",
       "    <tr>\n",
       "      <th>3</th>\n",
       "      <td>4</td>\n",
       "      <td>One Flew Over the Cuckoo's Nest (1975)</td>\n",
       "    </tr>\n",
       "    <tr>\n",
       "      <th>4</th>\n",
       "      <td>5</td>\n",
       "      <td>One Flew Over the Cuckoo's Nest (1975)</td>\n",
       "    </tr>\n",
       "  </tbody>\n",
       "</table>\n",
       "</div>"
      ],
      "text/plain": [
       "   Rating                                   Title\n",
       "0       5  One Flew Over the Cuckoo's Nest (1975)\n",
       "1       5  One Flew Over the Cuckoo's Nest (1975)\n",
       "2       4  One Flew Over the Cuckoo's Nest (1975)\n",
       "3       4  One Flew Over the Cuckoo's Nest (1975)\n",
       "4       5  One Flew Over the Cuckoo's Nest (1975)"
      ]
     },
     "execution_count": 19,
     "metadata": {},
     "output_type": "execute_result"
    }
   ],
   "source": [
    "ratings_toy.head()"
   ]
  },
  {
   "cell_type": "raw",
   "id": "2a7a673b",
   "metadata": {},
   "source": []
  },
  {
   "cell_type": "code",
   "execution_count": null,
   "id": "e9f9985e",
   "metadata": {},
   "outputs": [],
   "source": []
  },
  {
   "cell_type": "raw",
   "id": "592bc052",
   "metadata": {},
   "source": []
  },
  {
   "cell_type": "code",
   "execution_count": 20,
   "id": "cd91e859",
   "metadata": {},
   "outputs": [],
   "source": [
    "ratings_toy=ratings_toy[ratings_toy['Title']=='Toy Story (1995)']"
   ]
  },
  {
   "cell_type": "code",
   "execution_count": 21,
   "id": "a54a324f",
   "metadata": {},
   "outputs": [
    {
     "data": {
      "text/html": [
       "<div>\n",
       "<style scoped>\n",
       "    .dataframe tbody tr th:only-of-type {\n",
       "        vertical-align: middle;\n",
       "    }\n",
       "\n",
       "    .dataframe tbody tr th {\n",
       "        vertical-align: top;\n",
       "    }\n",
       "\n",
       "    .dataframe thead th {\n",
       "        text-align: right;\n",
       "    }\n",
       "</style>\n",
       "<table border=\"1\" class=\"dataframe\">\n",
       "  <thead>\n",
       "    <tr style=\"text-align: right;\">\n",
       "      <th></th>\n",
       "      <th>Rating</th>\n",
       "      <th>Title</th>\n",
       "    </tr>\n",
       "  </thead>\n",
       "  <tbody>\n",
       "    <tr>\n",
       "      <th>41626</th>\n",
       "      <td>5</td>\n",
       "      <td>Toy Story (1995)</td>\n",
       "    </tr>\n",
       "    <tr>\n",
       "      <th>41627</th>\n",
       "      <td>4</td>\n",
       "      <td>Toy Story (1995)</td>\n",
       "    </tr>\n",
       "    <tr>\n",
       "      <th>41628</th>\n",
       "      <td>4</td>\n",
       "      <td>Toy Story (1995)</td>\n",
       "    </tr>\n",
       "    <tr>\n",
       "      <th>41629</th>\n",
       "      <td>5</td>\n",
       "      <td>Toy Story (1995)</td>\n",
       "    </tr>\n",
       "    <tr>\n",
       "      <th>41630</th>\n",
       "      <td>5</td>\n",
       "      <td>Toy Story (1995)</td>\n",
       "    </tr>\n",
       "  </tbody>\n",
       "</table>\n",
       "</div>"
      ],
      "text/plain": [
       "       Rating             Title\n",
       "41626       5  Toy Story (1995)\n",
       "41627       4  Toy Story (1995)\n",
       "41628       4  Toy Story (1995)\n",
       "41629       5  Toy Story (1995)\n",
       "41630       5  Toy Story (1995)"
      ]
     },
     "execution_count": 21,
     "metadata": {},
     "output_type": "execute_result"
    }
   ],
   "source": [
    "ratings_toy.head()"
   ]
  },
  {
   "cell_type": "code",
   "execution_count": 22,
   "id": "038b1315",
   "metadata": {},
   "outputs": [
    {
     "data": {
      "text/plain": [
       "<AxesSubplot:>"
      ]
     },
     "execution_count": 22,
     "metadata": {},
     "output_type": "execute_result"
    },
    {
     "data": {
      "image/png": "[encoded data removed]",
      "text/plain": [
       "<Figure size 432x288 with 1 Axes>"
      ]
     },
     "metadata": {
      "needs_background": "light"
     },
     "output_type": "display_data"
    }
   ],
   "source": [
    "ratings_toy['Rating'].value_counts().plot(kind='bar')"
   ]
  },
  {
   "cell_type": "code",
   "execution_count": 23,
   "id": "28660572",
   "metadata": {},
   "outputs": [],
   "source": [
    "Top_movies=Master_Data.groupby(['Title'])['Rating'].mean()"
   ]
  },
  {
   "cell_type": "code",
   "execution_count": 24,
   "id": "98f9c9cf",
   "metadata": {},
   "outputs": [],
   "source": [
    "Top_movies=pd.DataFrame(Top_movies).reset_index()"
   ]
  },
  {
   "cell_type": "code",
   "execution_count": 25,
   "id": "ffb41cae",
   "metadata": {},
   "outputs": [
    {
     "data": {
      "text/html": [
       "<div>\n",
       "<style scoped>\n",
       "    .dataframe tbody tr th:only-of-type {\n",
       "        vertical-align: middle;\n",
       "    }\n",
       "\n",
       "    .dataframe tbody tr th {\n",
       "        vertical-align: top;\n",
       "    }\n",
       "\n",
       "    .dataframe thead th {\n",
       "        text-align: right;\n",
       "    }\n",
       "</style>\n",
       "<table border=\"1\" class=\"dataframe\">\n",
       "  <thead>\n",
       "    <tr style=\"text-align: right;\">\n",
       "      <th></th>\n",
       "      <th>Title</th>\n",
       "      <th>Rating</th>\n",
       "    </tr>\n",
       "  </thead>\n",
       "  <tbody>\n",
       "    <tr>\n",
       "      <th>3477</th>\n",
       "      <td>Ulysses (Ulisse) (1954)</td>\n",
       "      <td>5.000000</td>\n",
       "    </tr>\n",
       "    <tr>\n",
       "      <th>2025</th>\n",
       "      <td>Lured (1947)</td>\n",
       "      <td>5.000000</td>\n",
       "    </tr>\n",
       "    <tr>\n",
       "      <th>1203</th>\n",
       "      <td>Follow the Bitch (1998)</td>\n",
       "      <td>5.000000</td>\n",
       "    </tr>\n",
       "    <tr>\n",
       "      <th>407</th>\n",
       "      <td>Bittersweet Motel (2000)</td>\n",
       "      <td>5.000000</td>\n",
       "    </tr>\n",
       "    <tr>\n",
       "      <th>3087</th>\n",
       "      <td>Song of Freedom (1936)</td>\n",
       "      <td>5.000000</td>\n",
       "    </tr>\n",
       "    <tr>\n",
       "      <th>2453</th>\n",
       "      <td>One Little Indian (1973)</td>\n",
       "      <td>5.000000</td>\n",
       "    </tr>\n",
       "    <tr>\n",
       "      <th>3044</th>\n",
       "      <td>Smashing Time (1967)</td>\n",
       "      <td>5.000000</td>\n",
       "    </tr>\n",
       "    <tr>\n",
       "      <th>2903</th>\n",
       "      <td>Schlafes Bruder (Brother of Sleep) (1995)</td>\n",
       "      <td>5.000000</td>\n",
       "    </tr>\n",
       "    <tr>\n",
       "      <th>1297</th>\n",
       "      <td>Gate of Heavenly Peace, The (1995)</td>\n",
       "      <td>5.000000</td>\n",
       "    </tr>\n",
       "    <tr>\n",
       "      <th>249</th>\n",
       "      <td>Baby, The (1973)</td>\n",
       "      <td>5.000000</td>\n",
       "    </tr>\n",
       "    <tr>\n",
       "      <th>1622</th>\n",
       "      <td>I Am Cuba (Soy Cuba/Ya Kuba) (1964)</td>\n",
       "      <td>4.800000</td>\n",
       "    </tr>\n",
       "    <tr>\n",
       "      <th>1870</th>\n",
       "      <td>Lamerica (1994)</td>\n",
       "      <td>4.750000</td>\n",
       "    </tr>\n",
       "    <tr>\n",
       "      <th>199</th>\n",
       "      <td>Apple, The (Sib) (1998)</td>\n",
       "      <td>4.666667</td>\n",
       "    </tr>\n",
       "    <tr>\n",
       "      <th>2883</th>\n",
       "      <td>Sanjuro (1962)</td>\n",
       "      <td>4.608696</td>\n",
       "    </tr>\n",
       "    <tr>\n",
       "      <th>2940</th>\n",
       "      <td>Seven Samurai (The Magnificent Seven) (Shichin...</td>\n",
       "      <td>4.560510</td>\n",
       "    </tr>\n",
       "    <tr>\n",
       "      <th>2970</th>\n",
       "      <td>Shawshank Redemption, The (1994)</td>\n",
       "      <td>4.554558</td>\n",
       "    </tr>\n",
       "    <tr>\n",
       "      <th>1354</th>\n",
       "      <td>Godfather, The (1972)</td>\n",
       "      <td>4.524966</td>\n",
       "    </tr>\n",
       "    <tr>\n",
       "      <th>713</th>\n",
       "      <td>Close Shave, A (1995)</td>\n",
       "      <td>4.520548</td>\n",
       "    </tr>\n",
       "    <tr>\n",
       "      <th>3504</th>\n",
       "      <td>Usual Suspects, The (1995)</td>\n",
       "      <td>4.517106</td>\n",
       "    </tr>\n",
       "    <tr>\n",
       "      <th>2901</th>\n",
       "      <td>Schindler's List (1993)</td>\n",
       "      <td>4.510417</td>\n",
       "    </tr>\n",
       "    <tr>\n",
       "      <th>3675</th>\n",
       "      <td>Wrong Trousers, The (1993)</td>\n",
       "      <td>4.507937</td>\n",
       "    </tr>\n",
       "    <tr>\n",
       "      <th>996</th>\n",
       "      <td>Dry Cleaning (Nettoyage � sec) (1997)</td>\n",
       "      <td>4.500000</td>\n",
       "    </tr>\n",
       "    <tr>\n",
       "      <th>1690</th>\n",
       "      <td>Inheritors, The (Die Siebtelbauern) (1998)</td>\n",
       "      <td>4.500000</td>\n",
       "    </tr>\n",
       "    <tr>\n",
       "      <th>2056</th>\n",
       "      <td>Mamma Roma (1962)</td>\n",
       "      <td>4.500000</td>\n",
       "    </tr>\n",
       "    <tr>\n",
       "      <th>342</th>\n",
       "      <td>Bells, The (1926)</td>\n",
       "      <td>4.500000</td>\n",
       "    </tr>\n",
       "  </tbody>\n",
       "</table>\n",
       "</div>"
      ],
      "text/plain": [
       "                                                  Title    Rating\n",
       "3477                            Ulysses (Ulisse) (1954)  5.000000\n",
       "2025                                       Lured (1947)  5.000000\n",
       "1203                            Follow the Bitch (1998)  5.000000\n",
       "407                            Bittersweet Motel (2000)  5.000000\n",
       "3087                             Song of Freedom (1936)  5.000000\n",
       "2453                           One Little Indian (1973)  5.000000\n",
       "3044                               Smashing Time (1967)  5.000000\n",
       "2903          Schlafes Bruder (Brother of Sleep) (1995)  5.000000\n",
       "1297                 Gate of Heavenly Peace, The (1995)  5.000000\n",
       "249                                    Baby, The (1973)  5.000000\n",
       "1622                I Am Cuba (Soy Cuba/Ya Kuba) (1964)  4.800000\n",
       "1870                                    Lamerica (1994)  4.750000\n",
       "199                             Apple, The (Sib) (1998)  4.666667\n",
       "2883                                     Sanjuro (1962)  4.608696\n",
       "2940  Seven Samurai (The Magnificent Seven) (Shichin...  4.560510\n",
       "2970                   Shawshank Redemption, The (1994)  4.554558\n",
       "1354                              Godfather, The (1972)  4.524966\n",
       "713                               Close Shave, A (1995)  4.520548\n",
       "3504                         Usual Suspects, The (1995)  4.517106\n",
       "2901                            Schindler's List (1993)  4.510417\n",
       "3675                         Wrong Trousers, The (1993)  4.507937\n",
       "996               Dry Cleaning (Nettoyage � sec) (1997)  4.500000\n",
       "1690         Inheritors, The (Die Siebtelbauern) (1998)  4.500000\n",
       "2056                                  Mamma Roma (1962)  4.500000\n",
       "342                                   Bells, The (1926)  4.500000"
      ]
     },
     "execution_count": 25,
     "metadata": {},
     "output_type": "execute_result"
    }
   ],
   "source": [
    "Top_movies.sort_values(ascending=False, by=['Rating'])[:25]"
   ]
  },
  {
   "cell_type": "code",
   "execution_count": 26,
   "id": "7b16a5ea",
   "metadata": {},
   "outputs": [],
   "source": [
    "User1=Master_Data[Master_Data['UserID']==2696]"
   ]
  },
  {
   "cell_type": "code",
   "execution_count": 27,
   "id": "990f0b17",
   "metadata": {},
   "outputs": [
    {
     "data": {
      "text/plain": [
       "<AxesSubplot:xlabel='Rating'>"
      ]
     },
     "execution_count": 27,
     "metadata": {},
     "output_type": "execute_result"
    },
    {
     "data": {
      "image/png": "[encoded data removed]",
      "text/plain": [
       "<Figure size 432x288 with 1 Axes>"
      ]
     },
     "metadata": {
      "needs_background": "light"
     },
     "output_type": "display_data"
    }
   ],
   "source": [
    "User1.groupby(['Rating']).size().plot(kind='bar')"
   ]
  },
  {
   "cell_type": "code",
   "execution_count": 169,
   "id": "0c06e742",
   "metadata": {},
   "outputs": [],
   "source": [
    "genres=Master_Data['Genre'].unique()"
   ]
  },
  {
   "cell_type": "raw",
   "id": "5fb8e798",
   "metadata": {},
   "source": []
  },
  {
   "cell_type": "code",
   "execution_count": 170,
   "id": "2956415f",
   "metadata": {},
   "outputs": [
    {
     "data": {
      "text/plain": [
       "array(['Drama', \"Animation|Children's|Musical\", 'Musical|Romance',\n",
       "       \"Animation|Children's|Comedy\", 'Action|Adventure|Comedy|Romance',\n",
       "       'Action|Adventure|Drama', 'Comedy|Drama',\n",
       "       \"Adventure|Children's|Drama|Musical\", 'Musical', 'Comedy',\n",
       "       \"Animation|Children's\", 'Comedy|Fantasy', 'Animation',\n",
       "       'Comedy|Sci-Fi', 'Drama|War', 'Romance',\n",
       "       \"Animation|Children's|Musical|Romance\",\n",
       "       \"Children's|Drama|Fantasy|Sci-Fi\", 'Drama|Romance',\n",
       "       'Animation|Comedy|Thriller',\n",
       "       \"Adventure|Animation|Children's|Comedy|Musical\",\n",
       "       \"Animation|Children's|Comedy|Musical\", 'Thriller',\n",
       "       'Action|Crime|Romance', 'Action|Adventure|Fantasy|Sci-Fi',\n",
       "       \"Children's|Comedy|Musical\", 'Action|Drama|War',\n",
       "       \"Children's|Drama\", 'Crime|Drama|Thriller', 'Action|Crime|Drama',\n",
       "       'Action|Adventure|Mystery', 'Crime|Drama',\n",
       "       'Action|Adventure|Sci-Fi|Thriller',\n",
       "       'Action|Adventure|Romance|Sci-Fi|War', 'Action|Thriller',\n",
       "       'Action|Drama', 'Comedy|Drama|Western', 'Action|Adventure|Crime',\n",
       "       'Action|Crime|Mystery|Thriller', 'Comedy|Drama|Romance',\n",
       "       'Comedy|Drama|War', 'Drama|Sci-Fi', 'Action|Drama|Thriller',\n",
       "       'Action|Comedy|Western', 'Adventure|Comedy|Drama',\n",
       "       'Drama|Thriller', 'Comedy|Romance',\n",
       "       'Action|Drama|Romance|Thriller', 'Action|Crime|Thriller',\n",
       "       'Action|Sci-Fi|Thriller', 'Action|Horror|Sci-Fi', 'Action|Sci-Fi',\n",
       "       'Action|Romance|War', 'Adventure|Drama|Romance|Sci-Fi',\n",
       "       'Action|Adventure|Sci-Fi', 'Drama|Romance|War',\n",
       "       'Action|Drama|Romance', 'Crime|Drama|Film-Noir|Thriller',\n",
       "       'Adventure|Drama|Western', 'Action|Adventure|Drama|Sci-Fi|War',\n",
       "       'Action|Adventure|Thriller', 'Action|Adventure|Romance|Thriller',\n",
       "       'Action|Adventure', 'Comedy|Horror', 'Action|Crime|Drama|Thriller',\n",
       "       'Action|Mystery|Romance|Thriller', 'Action|Romance|Thriller',\n",
       "       'Action|Comedy|Drama', 'Action', 'Action|Sci-Fi|War',\n",
       "       'Action|Comedy|Crime|Drama', 'Action|Adventure|Romance',\n",
       "       'Comedy|Romance|War', 'Comedy|Thriller', 'Action|Adventure|Comedy',\n",
       "       'Action|Comedy', 'Adventure|Thriller', 'Action|Adventure|Fantasy',\n",
       "       'Action|Adventure|Horror', 'Action|Adventure|Comedy|Sci-Fi',\n",
       "       'Action|Adventure|Comedy|Horror', 'Western', 'Adventure|Comedy',\n",
       "       'Adventure|Drama', 'Action|Adventure|Horror|Thriller',\n",
       "       'Comedy|Western', \"Animation|Children's|Comedy|Musical|Romance\",\n",
       "       'Action|Western', 'Action|Horror|Sci-Fi|Thriller', 'Action|Horror',\n",
       "       'Adventure|Animation|Film-Noir', 'Drama|Romance|Thriller',\n",
       "       'Crime|Drama|Romance|Thriller', 'Crime|Thriller',\n",
       "       'Animation|Comedy', 'Documentary',\n",
       "       'Crime|Film-Noir|Mystery|Thriller', 'Drama|Horror',\n",
       "       'Mystery|Sci-Fi|Thriller', 'Drama|Mystery', 'Horror|Romance',\n",
       "       'Horror|Sci-Fi', 'Horror', 'Sci-Fi|Thriller', 'Crime',\n",
       "       'Action|Crime', 'Crime|Horror', 'Drama|Mystery|Thriller',\n",
       "       'Comedy|Crime', 'Drama|Sci-Fi|Thriller', \"Children's|Comedy\",\n",
       "       'Horror|Mystery|Thriller', 'Film-Noir|Mystery',\n",
       "       'Comedy|Crime|Mystery|Thriller', 'Drama|Musical',\n",
       "       'Adventure|Sci-Fi', \"Children's|Comedy|Drama\", 'Action|Romance',\n",
       "       \"Adventure|Animation|Children's|Musical\", 'Comedy|Musical',\n",
       "       \"Children's|Fantasy|Musical\", \"Children's|Comedy|Western\",\n",
       "       'Drama|Romance|War|Western', \"Adventure|Children's|Comedy\",\n",
       "       'Comedy|Fantasy|Romance', 'Comedy|Musical|Romance',\n",
       "       \"Adventure|Children's|Drama\", 'Action|Drama|Thriller|War',\n",
       "       'Drama|Thriller|War', 'Adventure|Animation|Sci-Fi|Thriller',\n",
       "       'Animation|Sci-Fi', 'Comedy|Crime|Drama|Mystery',\n",
       "       'Crime|Drama|Mystery', 'Action|Comedy|Sci-Fi|Thriller',\n",
       "       'Comedy|Crime|Fantasy', 'Horror|Sci-Fi|Thriller',\n",
       "       \"Adventure|Children's|Comedy|Fantasy|Sci-Fi\",\n",
       "       'Film-Noir|Mystery|Thriller', 'Adventure', 'Comedy|War',\n",
       "       'Comedy|Romance|Thriller', \"Action|Children's|Fantasy\",\n",
       "       \"Adventure|Children's|Fantasy\", 'Action|Adventure|Comedy|Crime',\n",
       "       'Adventure|Musical', \"Animation|Children's|Drama|Fantasy\",\n",
       "       'Comedy|Mystery|Thriller', 'Action|Adventure|Crime|Drama',\n",
       "       \"Children's|Fantasy|Sci-Fi\", \"Adventure|Children's\", 'War',\n",
       "       'Comedy|Horror|Musical|Sci-Fi', \"Children's|Comedy|Fantasy\",\n",
       "       'Sci-Fi|War', \"Animation|Children's|Fantasy|Musical\",\n",
       "       \"Children's|Sci-Fi\", \"Adventure|Children's|Fantasy|Sci-Fi\",\n",
       "       'Mystery|Thriller', 'Comedy|Horror|Musical',\n",
       "       'Action|Horror|Thriller', 'Adventure|Fantasy',\n",
       "       'Drama|Mystery|Sci-Fi|Thriller', 'Crime|Drama|Sci-Fi',\n",
       "       \"Adventure|Children's|Musical\", 'Action|Sci-Fi|Thriller|War',\n",
       "       'Adventure|War', 'Action|Adventure|Romance|War',\n",
       "       'Action|Drama|Fantasy|Romance', 'Adventure|Comedy|Sci-Fi',\n",
       "       'Comedy|Sci-Fi|Western', 'Action|Adventure|Comedy|Horror|Sci-Fi',\n",
       "       \"Adventure|Children's|Comedy|Fantasy\", 'Film-Noir|Sci-Fi',\n",
       "       'Drama|Fantasy', \"Children's|Drama|Fantasy\", \"Children's|Fantasy\",\n",
       "       'Fantasy|Sci-Fi', 'Action|Comedy|Musical',\n",
       "       'Adventure|Fantasy|Sci-Fi', 'Action|Adventure|Sci-Fi|War',\n",
       "       \"Action|Adventure|Children's|Comedy\",\n",
       "       \"Adventure|Children's|Drama|Romance\",\n",
       "       \"Adventure|Children's|Sci-Fi\", \"Children's\",\n",
       "       'Comedy|Drama|Musical', 'Comedy|Fantasy|Romance|Sci-Fi',\n",
       "       'Comedy|Crime|Drama', 'Sci-Fi', 'Adventure|Fantasy|Romance',\n",
       "       'Adventure|Romance', 'Adventure|Western', 'Action|Drama|Mystery',\n",
       "       'Adventure|Animation|Sci-Fi', 'Adventure|Romance|Sci-Fi',\n",
       "       'Horror|Thriller', 'Action|Adventure|Mystery|Sci-Fi',\n",
       "       'Adventure|Drama|Thriller', 'Comedy|Horror|Thriller',\n",
       "       'Action|Comedy|Crime|Horror|Thriller',\n",
       "       'Crime|Horror|Mystery|Thriller', 'Crime|Horror|Thriller',\n",
       "       'Crime|Drama|Mystery|Thriller', 'Animation|Musical',\n",
       "       'Action|Sci-Fi|Western', 'Crime|Drama|Film-Noir',\n",
       "       'Adventure|Sci-Fi|Thriller', 'Drama|Fantasy|Romance|Thriller',\n",
       "       'Mystery|Sci-Fi', 'Action|Crime|Sci-Fi', 'Comedy|Mystery',\n",
       "       'Action|Romance|Sci-Fi', 'Crime|Film-Noir|Mystery',\n",
       "       'Comedy|Drama|Sci-Fi', 'Sci-Fi|Thriller|War', 'Film-Noir|Thriller',\n",
       "       'Action|Adventure|Animation|Horror|Sci-Fi',\n",
       "       'Action|Sci-Fi|Thriller|Western', 'Comedy|Horror|Sci-Fi',\n",
       "       'Crime|Film-Noir|Thriller', 'Comedy|Crime|Thriller',\n",
       "       'Film-Noir|Sci-Fi|Thriller',\n",
       "       \"Adventure|Animation|Children's|Sci-Fi\",\n",
       "       'Action|Adventure|Drama|Romance', \"Children's|Musical\",\n",
       "       'Action|Comedy|Musical|Sci-Fi', 'Action|Drama|Sci-Fi|Thriller',\n",
       "       'Action|Comedy|Fantasy', 'Action|War', 'Action|Comedy|Sci-Fi|War',\n",
       "       'Comedy|Crime|Horror', 'Action|Comedy|War',\n",
       "       \"Action|Adventure|Children's|Sci-Fi\", \"Action|Children's\",\n",
       "       'Comedy|Documentary', 'Action|Adventure|Animation',\n",
       "       'Action|Mystery|Thriller',\n",
       "       \"Action|Animation|Children's|Sci-Fi|Thriller|War\",\n",
       "       'Crime|Drama|Romance', 'Crime|Film-Noir',\n",
       "       'Mystery|Romance|Thriller', 'Comedy|Mystery|Romance|Thriller',\n",
       "       'Action|Adventure|Sci-Fi|Thriller|War',\n",
       "       'Adventure|Crime|Sci-Fi|Thriller', 'Action|Adventure|Western',\n",
       "       \"Animation|Children's|Fantasy|War\", 'Action|Adventure|Comedy|War',\n",
       "       \"Children's|Comedy|Sci-Fi\",\n",
       "       \"Adventure|Animation|Children's|Comedy|Fantasy\",\n",
       "       'Drama|Musical|War', 'Drama|Mystery|Romance',\n",
       "       'Adventure|Drama|Romance', 'Film-Noir',\n",
       "       'Film-Noir|Romance|Thriller', 'Drama|Film-Noir',\n",
       "       'Romance|Thriller', 'Action|Adventure|War', 'Mystery',\n",
       "       'Action|Adventure|Drama|Thriller', 'Musical|Romance|War',\n",
       "       'Drama|Western', 'Action|Drama|Mystery|Romance|Thriller',\n",
       "       'Adventure|Comedy|Musical', 'Documentary|Musical',\n",
       "       'Action|Thriller|War', 'Adventure|Comedy|Romance',\n",
       "       \"Adventure|Children's|Comedy|Fantasy|Romance\", 'Romance|War',\n",
       "       'Comedy|Romance|Sci-Fi', 'Action|Mystery|Sci-Fi|Thriller',\n",
       "       \"Children's|Horror\", 'Adventure|Musical|Romance',\n",
       "       \"Adventure|Children's|Comedy|Musical\", \"Children's|Comedy|Mystery\",\n",
       "       'Action|Comedy|Romance|Thriller', 'Action|Drama|Western',\n",
       "       \"Animation|Children's|Comedy|Romance\", 'Comedy|Mystery|Romance',\n",
       "       'Action|Crime|Mystery', 'Comedy|Drama|Thriller', 'Musical|War',\n",
       "       'Documentary|Drama', 'Action|Adventure|Crime|Thriller',\n",
       "       \"Action|Adventure|Children's\", \"Adventure|Children's|Romance\",\n",
       "       \"Adventure|Animation|Children's\",\n",
       "       \"Action|Adventure|Animation|Children's|Fantasy\",\n",
       "       \"Adventure|Animation|Children's|Fantasy\",\n",
       "       'Drama|Film-Noir|Thriller', 'Crime|Mystery', 'Documentary|War',\n",
       "       'Action|Comedy|Crime', 'Drama|Romance|Sci-Fi', 'Horror|Mystery',\n",
       "       'Drama|Horror|Thriller', \"Action|Adventure|Children's|Fantasy\",\n",
       "       'Animation|Mystery', 'Drama|Romance|Western', 'Romance|Western',\n",
       "       'Comedy|Film-Noir|Thriller', 'Fantasy', 'Film-Noir|Horror'],\n",
       "      dtype=object)"
      ]
     },
     "execution_count": 170,
     "metadata": {},
     "output_type": "execute_result"
    }
   ],
   "source": [
    "genres"
   ]
  },
  {
   "cell_type": "code",
   "execution_count": 172,
   "id": "dc3e083b",
   "metadata": {},
   "outputs": [],
   "source": [
    "movie_ratings_selected_df = Master_Data[[\n",
    "    'Gender',\n",
    "    'Age',\n",
    "    'Ocupation',\n",
    "    'Rating',\n",
    "    'Genre'\n",
    "]]"
   ]
  },
  {
   "cell_type": "code",
   "execution_count": 173,
   "id": "fbd6f997",
   "metadata": {},
   "outputs": [],
   "source": [
    "Genre = movie_ratings_selected_df['Genre']"
   ]
  },
  {
   "cell_type": "code",
   "execution_count": 133,
   "id": "5cd4bda4",
   "metadata": {},
   "outputs": [],
   "source": [
    "Genre = Genre.str.get_dummies().add_prefix('Genre_')"
   ]
  },
  {
   "cell_type": "code",
   "execution_count": 134,
   "id": "57a8d5e8",
   "metadata": {},
   "outputs": [],
   "source": [
    "MD = pd.concat([movie_ratings_selected_df.drop(['Genre'],axis=1),\n",
    "     Genre],\n",
    "    axis=1,\n",
    "    \n",
    ")\n",
    "\n"
   ]
  },
  {
   "cell_type": "code",
   "execution_count": 153,
   "id": "e9928085",
   "metadata": {},
   "outputs": [],
   "source": [
    "MD=pd.get_dummies(MD, columns=['Gender'])"
   ]
  },
  {
   "cell_type": "code",
   "execution_count": 154,
   "id": "fd7970ea",
   "metadata": {},
   "outputs": [
    {
     "data": {
      "text/html": [
       "<div>\n",
       "<style scoped>\n",
       "    .dataframe tbody tr th:only-of-type {\n",
       "        vertical-align: middle;\n",
       "    }\n",
       "\n",
       "    .dataframe tbody tr th {\n",
       "        vertical-align: top;\n",
       "    }\n",
       "\n",
       "    .dataframe thead th {\n",
       "        text-align: right;\n",
       "    }\n",
       "</style>\n",
       "<table border=\"1\" class=\"dataframe\">\n",
       "  <thead>\n",
       "    <tr style=\"text-align: right;\">\n",
       "      <th></th>\n",
       "      <th>Age</th>\n",
       "      <th>Ocupation</th>\n",
       "      <th>Rating</th>\n",
       "      <th>Genre_Action</th>\n",
       "      <th>Genre_Adventure</th>\n",
       "      <th>Genre_Animation</th>\n",
       "      <th>Genre_Children's</th>\n",
       "      <th>Genre_Comedy</th>\n",
       "      <th>Genre_Crime</th>\n",
       "      <th>Genre_Documentary</th>\n",
       "      <th>...</th>\n",
       "      <th>Genre_Horror</th>\n",
       "      <th>Genre_Musical</th>\n",
       "      <th>Genre_Mystery</th>\n",
       "      <th>Genre_Romance</th>\n",
       "      <th>Genre_Sci-Fi</th>\n",
       "      <th>Genre_Thriller</th>\n",
       "      <th>Genre_War</th>\n",
       "      <th>Genre_Western</th>\n",
       "      <th>Gender_F</th>\n",
       "      <th>Gender_M</th>\n",
       "    </tr>\n",
       "  </thead>\n",
       "  <tbody>\n",
       "    <tr>\n",
       "      <th>0</th>\n",
       "      <td>1</td>\n",
       "      <td>10</td>\n",
       "      <td>5</td>\n",
       "      <td>0</td>\n",
       "      <td>0</td>\n",
       "      <td>0</td>\n",
       "      <td>0</td>\n",
       "      <td>0</td>\n",
       "      <td>0</td>\n",
       "      <td>0</td>\n",
       "      <td>...</td>\n",
       "      <td>0</td>\n",
       "      <td>0</td>\n",
       "      <td>0</td>\n",
       "      <td>0</td>\n",
       "      <td>0</td>\n",
       "      <td>0</td>\n",
       "      <td>0</td>\n",
       "      <td>0</td>\n",
       "      <td>1</td>\n",
       "      <td>0</td>\n",
       "    </tr>\n",
       "    <tr>\n",
       "      <th>1</th>\n",
       "      <td>56</td>\n",
       "      <td>16</td>\n",
       "      <td>5</td>\n",
       "      <td>0</td>\n",
       "      <td>0</td>\n",
       "      <td>0</td>\n",
       "      <td>0</td>\n",
       "      <td>0</td>\n",
       "      <td>0</td>\n",
       "      <td>0</td>\n",
       "      <td>...</td>\n",
       "      <td>0</td>\n",
       "      <td>0</td>\n",
       "      <td>0</td>\n",
       "      <td>0</td>\n",
       "      <td>0</td>\n",
       "      <td>0</td>\n",
       "      <td>0</td>\n",
       "      <td>0</td>\n",
       "      <td>0</td>\n",
       "      <td>1</td>\n",
       "    </tr>\n",
       "    <tr>\n",
       "      <th>2</th>\n",
       "      <td>25</td>\n",
       "      <td>12</td>\n",
       "      <td>4</td>\n",
       "      <td>0</td>\n",
       "      <td>0</td>\n",
       "      <td>0</td>\n",
       "      <td>0</td>\n",
       "      <td>0</td>\n",
       "      <td>0</td>\n",
       "      <td>0</td>\n",
       "      <td>...</td>\n",
       "      <td>0</td>\n",
       "      <td>0</td>\n",
       "      <td>0</td>\n",
       "      <td>0</td>\n",
       "      <td>0</td>\n",
       "      <td>0</td>\n",
       "      <td>0</td>\n",
       "      <td>0</td>\n",
       "      <td>0</td>\n",
       "      <td>1</td>\n",
       "    </tr>\n",
       "    <tr>\n",
       "      <th>3</th>\n",
       "      <td>25</td>\n",
       "      <td>7</td>\n",
       "      <td>4</td>\n",
       "      <td>0</td>\n",
       "      <td>0</td>\n",
       "      <td>0</td>\n",
       "      <td>0</td>\n",
       "      <td>0</td>\n",
       "      <td>0</td>\n",
       "      <td>0</td>\n",
       "      <td>...</td>\n",
       "      <td>0</td>\n",
       "      <td>0</td>\n",
       "      <td>0</td>\n",
       "      <td>0</td>\n",
       "      <td>0</td>\n",
       "      <td>0</td>\n",
       "      <td>0</td>\n",
       "      <td>0</td>\n",
       "      <td>0</td>\n",
       "      <td>1</td>\n",
       "    </tr>\n",
       "    <tr>\n",
       "      <th>4</th>\n",
       "      <td>50</td>\n",
       "      <td>1</td>\n",
       "      <td>5</td>\n",
       "      <td>0</td>\n",
       "      <td>0</td>\n",
       "      <td>0</td>\n",
       "      <td>0</td>\n",
       "      <td>0</td>\n",
       "      <td>0</td>\n",
       "      <td>0</td>\n",
       "      <td>...</td>\n",
       "      <td>0</td>\n",
       "      <td>0</td>\n",
       "      <td>0</td>\n",
       "      <td>0</td>\n",
       "      <td>0</td>\n",
       "      <td>0</td>\n",
       "      <td>0</td>\n",
       "      <td>0</td>\n",
       "      <td>0</td>\n",
       "      <td>1</td>\n",
       "    </tr>\n",
       "  </tbody>\n",
       "</table>\n",
       "<p>5 rows × 23 columns</p>\n",
       "</div>"
      ],
      "text/plain": [
       "   Age  Ocupation  Rating  Genre_Action  Genre_Adventure  Genre_Animation  \\\n",
       "0    1         10       5             0                0                0   \n",
       "1   56         16       5             0                0                0   \n",
       "2   25         12       4             0                0                0   \n",
       "3   25          7       4             0                0                0   \n",
       "4   50          1       5             0                0                0   \n",
       "\n",
       "   Genre_Children's  Genre_Comedy  Genre_Crime  Genre_Documentary  ...  \\\n",
       "0                 0             0            0                  0  ...   \n",
       "1                 0             0            0                  0  ...   \n",
       "2                 0             0            0                  0  ...   \n",
       "3                 0             0            0                  0  ...   \n",
       "4                 0             0            0                  0  ...   \n",
       "\n",
       "   Genre_Horror  Genre_Musical  Genre_Mystery  Genre_Romance  Genre_Sci-Fi  \\\n",
       "0             0              0              0              0             0   \n",
       "1             0              0              0              0             0   \n",
       "2             0              0              0              0             0   \n",
       "3             0              0              0              0             0   \n",
       "4             0              0              0              0             0   \n",
       "\n",
       "   Genre_Thriller  Genre_War  Genre_Western  Gender_F  Gender_M  \n",
       "0               0          0              0         1         0  \n",
       "1               0          0              0         0         1  \n",
       "2               0          0              0         0         1  \n",
       "3               0          0              0         0         1  \n",
       "4               0          0              0         0         1  \n",
       "\n",
       "[5 rows x 23 columns]"
      ]
     },
     "execution_count": 154,
     "metadata": {},
     "output_type": "execute_result"
    }
   ],
   "source": [
    "MD.head()"
   ]
  },
  {
   "cell_type": "code",
   "execution_count": 155,
   "id": "34a8e9b6",
   "metadata": {},
   "outputs": [],
   "source": [
    "x=MD.drop(columns='Rating',axis=1)"
   ]
  },
  {
   "cell_type": "code",
   "execution_count": 156,
   "id": "04306deb",
   "metadata": {},
   "outputs": [],
   "source": [
    "y=MD['Rating']"
   ]
  },
  {
   "cell_type": "code",
   "execution_count": 157,
   "id": "848f4a83",
   "metadata": {},
   "outputs": [],
   "source": [
    "from sklearn.model_selection import train_test_split"
   ]
  },
  {
   "cell_type": "code",
   "execution_count": 158,
   "id": "77077383",
   "metadata": {},
   "outputs": [],
   "source": [
    "x_train,x_test,y_train,y_test=train_test_split(x,y,test_size=0.3,random_state=0)"
   ]
  },
  {
   "cell_type": "code",
   "execution_count": 159,
   "id": "b7aaba68",
   "metadata": {},
   "outputs": [],
   "source": [
    "from sklearn.linear_model import LinearRegression"
   ]
  },
  {
   "cell_type": "code",
   "execution_count": 160,
   "id": "2359775b",
   "metadata": {},
   "outputs": [],
   "source": [
    "lr=LinearRegression()"
   ]
  },
  {
   "cell_type": "code",
   "execution_count": 161,
   "id": "be47ba11",
   "metadata": {},
   "outputs": [
    {
     "data": {
      "text/plain": [
       "LinearRegression()"
      ]
     },
     "execution_count": 161,
     "metadata": {},
     "output_type": "execute_result"
    }
   ],
   "source": [
    "lr.fit(x_train,y_train)"
   ]
  },
  {
   "cell_type": "code",
   "execution_count": 162,
   "id": "147ad964",
   "metadata": {},
   "outputs": [],
   "source": [
    "y_pred=lr.predict(x_test)"
   ]
  },
  {
   "cell_type": "code",
   "execution_count": 168,
   "id": "2a280c2a",
   "metadata": {},
   "outputs": [
    {
     "name": "stdout",
     "output_type": "stream",
     "text": [
      "y-intercept:  3.381301680648352\n",
      "Beta coefficients:  [ 0.00391672  0.00105151 -0.09641039  0.01263625  0.36211647 -0.31559526\n",
      " -0.01165602  0.09498182  0.42807478  0.23512417  0.06591758  0.43932016\n",
      " -0.28529767  0.16566815  0.01487994 -0.00625741 -0.02416308  0.06179947\n",
      "  0.29701786  0.12054586  0.0194575  -0.0194575 ]\n",
      "Mean Abs Error  MAE:  0.9021481689960541\n",
      "Mean Sq Error  MSE:  1.2039105570109343\n",
      "Root Mean Sq Error RMSE: 1.0972285801103316\n",
      "r2 value:  0.03701789298445857\n"
     ]
    }
   ],
   "source": [
    "print(\n",
    "    'y-intercept: ',\n",
    "    lr.intercept_\n",
    ")\n",
    "print(\n",
    "    'Beta coefficients: ',\n",
    "    lr.coef_\n",
    ")\n",
    "print(\n",
    "    'Mean Abs Error  MAE: ',\n",
    "    metrics.mean_absolute_error(y_test, y_pred)\n",
    ")\n",
    "print(\n",
    "    'Mean Sq Error  MSE: ',\n",
    "    metrics.mean_squared_error(y_test, y_pred)\n",
    ")\n",
    "print(\n",
    "    'Root Mean Sq Error RMSE:',\n",
    "    np.sqrt(metrics.mean_squared_error(y_test, y_pred))\n",
    ")\n",
    "print(\n",
    "    'r2 value: ',\n",
    "    metrics.r2_score(y_test, y_pred)\n",
    ")"
   ]
  }
 ],
 "metadata": {
  "kernelspec": {
   "display_name": "Python 3",
   "language": "python",
   "name": "python3"
  },
  "language_info": {
   "codemirror_mode": {
    "name": "ipython",
    "version": 3
   },
   "file_extension": ".py",
   "mimetype": "text/x-python",
   "name": "python",
   "nbconvert_exporter": "python",
   "pygments_lexer": "ipython3",
   "version": "3.8.8"
  }
 },
 "nbformat": 4,
 "nbformat_minor": 5
}
